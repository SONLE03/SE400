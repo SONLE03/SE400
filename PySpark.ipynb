{
  "cells": [
    {
      "cell_type": "code",
      "source": [
        "from google.colab import drive\n",
        "drive.mount('/content/drive')"
      ],
      "metadata": {
        "id": "-l3B9jqAFxjH",
        "outputId": "c7092dfe-3238-449f-d20a-68f8009c77ba",
        "colab": {
          "base_uri": "https://localhost:8080/"
        }
      },
      "execution_count": null,
      "outputs": [
        {
          "output_type": "stream",
          "name": "stdout",
          "text": [
            "Drive already mounted at /content/drive; to attempt to forcibly remount, call drive.mount(\"/content/drive\", force_remount=True).\n"
          ]
        }
      ]
    },
    {
      "cell_type": "code",
      "source": [
        "%pip install pyspark==3.5.4"
      ],
      "metadata": {
        "id": "Z6nI96xVFyrD",
        "outputId": "68600ef6-c7be-4fab-bce8-7d314a25ae82",
        "colab": {
          "base_uri": "https://localhost:8080/"
        }
      },
      "execution_count": null,
      "outputs": [
        {
          "output_type": "stream",
          "name": "stdout",
          "text": [
            "Requirement already satisfied: pyspark==3.5.4 in /usr/local/lib/python3.11/dist-packages (3.5.4)\n",
            "Requirement already satisfied: py4j==0.10.9.7 in /usr/local/lib/python3.11/dist-packages (from pyspark==3.5.4) (0.10.9.7)\n"
          ]
        }
      ]
    },
    {
      "cell_type": "code",
      "source": [
        "import numpy as np\n",
        "import pandas\n",
        "import time\n",
        "import seaborn as sns\n",
        "import matplotlib.pyplot as plt\n",
        "\n",
        "from sklearn.metrics import classification_report\n",
        "from sklearn.metrics import f1_score\n",
        "from IPython.core.display import display\n",
        "from pyspark.sql import SparkSession\n",
        "from pyspark.sql.types import FloatType\n",
        "from pyspark.sql import functions as F\n",
        "from pyspark.sql import Row\n",
        "from pyspark.sql.types import IntegerType\n",
        "from pyspark.ml.feature import StringIndexer, OneHotEncoder, VectorAssembler\n",
        "from pyspark.ml import Pipeline\n",
        "from pyspark.ml.classification import LogisticRegression, DecisionTreeClassifier, RandomForestClassifier, NaiveBayes\n",
        "from pyspark.ml.evaluation import RegressionEvaluator, MulticlassClassificationEvaluator\n",
        "from pyspark.ml.feature import MinMaxScaler,StandardScaler\n",
        "from pyspark.ml.pipeline import PipelineModel\n",
        "\n",
        "sns.set()\n",
        "\n",
        "spark = SparkSession.builder.appName('FinalProject').config(\"spark.executor.memory\",\"16g\").getOrCreate()\n",
        "spark"
      ],
      "metadata": {
        "id": "Eo7VAG7_F0lr",
        "outputId": "a8b0bea4-d28d-4d24-8418-5dc4a930f484",
        "colab": {
          "base_uri": "https://localhost:8080/",
          "height": 219
        }
      },
      "execution_count": null,
      "outputs": [
        {
          "output_type": "execute_result",
          "data": {
            "text/plain": [
              "<pyspark.sql.session.SparkSession at 0x787bc8fdc3d0>"
            ],
            "text/html": [
              "\n",
              "            <div>\n",
              "                <p><b>SparkSession - in-memory</b></p>\n",
              "                \n",
              "        <div>\n",
              "            <p><b>SparkContext</b></p>\n",
              "\n",
              "            <p><a href=\"http://1883c45805ee:4040\">Spark UI</a></p>\n",
              "\n",
              "            <dl>\n",
              "              <dt>Version</dt>\n",
              "                <dd><code>v3.5.4</code></dd>\n",
              "              <dt>Master</dt>\n",
              "                <dd><code>local[*]</code></dd>\n",
              "              <dt>AppName</dt>\n",
              "                <dd><code>FinalProject</code></dd>\n",
              "            </dl>\n",
              "        </div>\n",
              "        \n",
              "            </div>\n",
              "        "
            ]
          },
          "metadata": {},
          "execution_count": 36
        }
      ]
    },
    {
      "cell_type": "code",
      "source": [
        "PATH = '/content/drive/MyDrive/DataSet/'"
      ],
      "metadata": {
        "id": "oKxAsfJHF2Bg"
      },
      "execution_count": null,
      "outputs": []
    },
    {
      "cell_type": "code",
      "source": [
        "# Read dataset.csv\n",
        "dataset = spark.read.csv(PATH+'TrainTest01.csv', header=True, inferSchema=True)\n",
        "dataset.printSchema()\n",
        "dataset.show(20,False)\n",
        "dataset.count()"
      ],
      "metadata": {
        "id": "3_q3chAyF3C4",
        "outputId": "a3d2bdf2-19aa-46e3-a43d-5e6e24727fdb",
        "colab": {
          "base_uri": "https://localhost:8080/"
        }
      },
      "execution_count": null,
      "outputs": [
        {
          "output_type": "stream",
          "name": "stdout",
          "text": [
            "root\n",
            " |-- ID: string (nullable = true)\n",
            " |-- QUARTER: integer (nullable = true)\n",
            " |-- MONTH: integer (nullable = true)\n",
            " |-- DAY_OF_MONTH: integer (nullable = true)\n",
            " |-- DAY_OF_WEEK: integer (nullable = true)\n",
            " |-- OP_UNIQUE_CARRIER: string (nullable = true)\n",
            " |-- ORIGIN: string (nullable = true)\n",
            " |-- DEST: string (nullable = true)\n",
            " |-- DISTANCE: double (nullable = true)\n",
            " |-- CRS_DEP_TIME: integer (nullable = true)\n",
            " |-- DEP_TIME: double (nullable = true)\n",
            " |-- DEP_DELAY: double (nullable = true)\n",
            " |-- DEP_DELAY_NEW: double (nullable = true)\n",
            " |-- DEP_DEL15: double (nullable = true)\n",
            " |-- ARR_DEL15: double (nullable = true)\n",
            "\n",
            "+------------------------+-------+-----+------------+-----------+-----------------+------+----+--------+------------+--------+---------+-------------+---------+---------+\n",
            "|ID                      |QUARTER|MONTH|DAY_OF_MONTH|DAY_OF_WEEK|OP_UNIQUE_CARRIER|ORIGIN|DEST|DISTANCE|CRS_DEP_TIME|DEP_TIME|DEP_DELAY|DEP_DELAY_NEW|DEP_DEL15|ARR_DEL15|\n",
            "+------------------------+-------+-----+------------+-----------+-----------------+------+----+--------+------------+--------+---------+-------------+---------+---------+\n",
            "|3/1/2024_9E_JAX_LGA_4816|1      |3    |1           |5          |9E               |JAX   |LGA |833.0   |625         |618.0   |-7.0     |0.0          |0.0      |0.0      |\n",
            "|3/1/2024_9E_JAX_LGA_4989|1      |3    |1           |5          |9E               |JAX   |LGA |833.0   |1918        |1916.0  |-2.0     |0.0          |0.0      |0.0      |\n",
            "|3/1/2024_9E_LGA_JAX_4989|1      |3    |1           |5          |9E               |LGA   |JAX |833.0   |1549        |1609.0  |20.0     |20.0         |1.0      |0.0      |\n",
            "|3/1/2024_9E_ATL_TLH_5423|1      |3    |1           |5          |9E               |ATL   |TLH |223.0   |1657        |1654.0  |-3.0     |0.0          |0.0      |0.0      |\n",
            "|3/1/2024_9E_TLH_ATL_5423|1      |3    |1           |5          |9E               |TLH   |ATL |223.0   |1842        |1837.0  |-5.0     |0.0          |0.0      |1.0      |\n",
            "|3/1/2024_9E_ATL_TLH_5214|1      |3    |1           |5          |9E               |ATL   |TLH |223.0   |810         |805.0   |-5.0     |0.0          |0.0      |0.0      |\n",
            "|3/1/2024_9E_TLH_ATL_5214|1      |3    |1           |5          |9E               |TLH   |ATL |223.0   |953         |949.0   |-4.0     |0.0          |0.0      |0.0      |\n",
            "|3/1/2024_9E_EYW_ATL_4918|1      |3    |1           |5          |9E               |EYW   |ATL |646.0   |740         |735.0   |-5.0     |0.0          |0.0      |0.0      |\n",
            "|3/1/2024_9E_ATL_EYW_4947|1      |3    |1           |5          |9E               |ATL   |EYW |646.0   |1749        |1747.0  |-2.0     |0.0          |0.0      |0.0      |\n",
            "|3/1/2024_9E_LGA_JAX_4805|1      |3    |1           |5          |9E               |LGA   |JAX |833.0   |1959        |1950.0  |-9.0     |0.0          |0.0      |0.0      |\n",
            "|3/1/2024_9E_JAX_JFK_4810|1      |3    |1           |5          |9E               |JAX   |JFK |828.0   |1214        |1209.0  |-5.0     |0.0          |0.0      |0.0      |\n",
            "|3/1/2024_9E_JFK_JAX_4810|1      |3    |1           |5          |9E               |JFK   |JAX |828.0   |847         |842.0   |-5.0     |0.0          |0.0      |0.0      |\n",
            "|3/1/2024_9E_LGA_PNS_4965|1      |3    |1           |5          |9E               |LGA   |PNS |1030.0  |1030        |1023.0  |-7.0     |0.0          |0.0      |0.0      |\n",
            "|3/1/2024_9E_PNS_LGA_4965|1      |3    |1           |5          |9E               |PNS   |LGA |1030.0  |1400        |1355.0  |-5.0     |0.0          |0.0      |0.0      |\n",
            "|3/1/2024_AA_CLT_PBI_1764|1      |3    |1           |5          |AA               |CLT   |PBI |590.0   |2228        |2251.0  |23.0     |23.0         |1.0      |0.0      |\n",
            "|3/1/2024_AA_DFW_PNS_2328|1      |3    |1           |5          |AA               |DFW   |PNS |604.0   |1330        |1330.0  |0.0      |0.0          |0.0      |0.0      |\n",
            "|3/1/2024_AA_PNS_DFW_2328|1      |3    |1           |5          |AA               |PNS   |DFW |604.0   |1557        |1554.0  |-3.0     |0.0          |0.0      |0.0      |\n",
            "|3/1/2024_AA_SRQ_CLT_1477|1      |3    |1           |5          |AA               |SRQ   |CLT |547.0   |635         |634.0   |-1.0     |0.0          |0.0      |0.0      |\n",
            "|3/1/2024_AA_CLT_SRQ_2439|1      |3    |1           |5          |AA               |CLT   |SRQ |547.0   |1442        |1454.0  |12.0     |12.0         |0.0      |0.0      |\n",
            "|3/1/2024_AA_SRQ_CLT_2439|1      |3    |1           |5          |AA               |SRQ   |CLT |547.0   |1720        |1717.0  |-3.0     |0.0          |0.0      |0.0      |\n",
            "+------------------------+-------+-----+------------+-----------+-----------------+------+----+--------+------------+--------+---------+-------------+---------+---------+\n",
            "only showing top 20 rows\n",
            "\n"
          ]
        },
        {
          "output_type": "execute_result",
          "data": {
            "text/plain": [
              "405262"
            ]
          },
          "metadata": {},
          "execution_count": 38
        }
      ]
    },
    {
      "cell_type": "code",
      "source": [
        "train, test = dataset.randomSplit(weights=[0.8,0.2], seed=2022)"
      ],
      "metadata": {
        "id": "RSdqwpy5F9Wd"
      },
      "execution_count": null,
      "outputs": []
    },
    {
      "cell_type": "code",
      "source": [
        "df_train = train.select('ARR_DEL15').toPandas()\n",
        "df_test = test.select('ARR_DEL15').toPandas()\n",
        "\n",
        "label_train = list(df_train.ARR_DEL15.value_counts())\n",
        "label_test = list(df_test.ARR_DEL15.value_counts())\n",
        "\n",
        "rate_train = [round(x * 100 / sum(label_train), 1) for x in label_train]\n",
        "rate_test = [round(x * 100 / sum(label_test), 1) for x in label_test]\n",
        "\n",
        "labels = ['G1', 'G2']\n",
        "\n",
        "x = np.arange(len(labels))  # the label locations\n",
        "width = 0.35  # the width of the bars\n",
        "\n",
        "fig, ax = plt.subplots(figsize =(12, 8))\n",
        "rects1 = ax.bar(x - width/2, label_train, width, label='Train set', color ='#00BFFF')\n",
        "rects2 = ax.bar(x + width/2, label_test, width, label='Test set', color ='#00FFFF')\n",
        "ax = plt.gca()\n",
        "ax.ticklabel_format(useOffset=False, style='plain')\n",
        "ax.set_xticklabels(labels)\n",
        "ax.legend()\n",
        "\n",
        "def autolabel_train(rects):\n",
        "    i = 0\n",
        "    for rect in rects:\n",
        "        height = rect.get_height()\n",
        "        height_2 = str(rate_train[i]) + '%'\n",
        "        i = i + 1\n",
        "        ax.annotate('{}'.format(height_2),\n",
        "                    xy=(rect.get_x() + rect.get_width() / 2, height),\n",
        "                    xytext=(0, 3),  # 3 points vertical offset\n",
        "                    textcoords=\"offset points\",\n",
        "                    ha='center', va='bottom')\n",
        "def autolabel_test(rects):\n",
        "    i = 0\n",
        "    for rect in rects:\n",
        "        height = rect.get_height()\n",
        "        height_2 = str(rate_test[i]) + '%'\n",
        "        i = i + 1\n",
        "        ax.annotate('{}'.format(height_2),\n",
        "                    xy=(rect.get_x() + rect.get_width() / 2, height),\n",
        "                    xytext=(0, 3),  # 3 points vertical offset\n",
        "                    textcoords=\"offset points\",\n",
        "                    ha='center', va='bottom')\n",
        "\n",
        "autolabel_train(rects1)\n",
        "autolabel_test(rects2)\n",
        "# Adding Xticks\n",
        "plt.xlabel('Label', fontsize = 15, fontfamily='serif')\n",
        "plt.ylabel('Count', fontsize = 15, fontfamily='serif')\n",
        "plt.xticks([r for r in range(len(label_train))], ['0', '1'])\n",
        "fig.tight_layout()\n",
        "plt.show()"
      ],
      "metadata": {
        "id": "X6wRje4fGAX3",
        "outputId": "d3bbc60b-d285-4f6d-87a0-7b44699b4bf9",
        "colab": {
          "base_uri": "https://localhost:8080/",
          "height": 728
        }
      },
      "execution_count": null,
      "outputs": [
        {
          "output_type": "stream",
          "name": "stderr",
          "text": [
            "<ipython-input-40-326e108d9148>:20: UserWarning: set_ticklabels() should only be used with a fixed number of ticks, i.e. after set_ticks() or using a FixedLocator.\n",
            "  ax.set_xticklabels(labels)\n"
          ]
        },
        {
          "output_type": "display_data",
          "data": {
            "text/plain": [
              "<Figure size 1200x800 with 1 Axes>"
            ],
            "image/png": "[encoded data removed]"
          },
          "metadata": {}
        }
      ]
    },
    {
      "cell_type": "code",
      "source": [
        "stringIndexer = StringIndexer(inputCols=['OP_UNIQUE_CARRIER', 'ORIGIN', 'DEST'],\n",
        "                              outputCols=['OP_UNIQUE_CARRIERIndex', 'ORIGINIndex', 'DESTIndex'])"
      ],
      "metadata": {
        "id": "l7t1c9-XJkM4"
      },
      "execution_count": null,
      "outputs": []
    },
    {
      "cell_type": "code",
      "source": [
        "oneHotEncoder = OneHotEncoder(inputCols=['OP_UNIQUE_CARRIERIndex', 'ORIGINIndex', 'DESTIndex'],\n",
        "                              outputCols=['OP_UNIQUE_CARRIERVec', 'ORIGINVec','DESTVec'])"
      ],
      "metadata": {
        "id": "Gc4MkPVGJld5"
      },
      "execution_count": null,
      "outputs": []
    },
    {
      "cell_type": "code",
      "source": [
        "assembler = VectorAssembler(inputCols=['QUARTER', 'MONTH', 'DAY_OF_MONTH', 'DAY_OF_WEEK', 'OP_UNIQUE_CARRIERVec', 'ORIGINVec',\n",
        "                                       'DESTVec', 'DISTANCE', 'CRS_DEP_TIME', 'DEP_TIME', 'DEP_DELAY', 'DEP_DELAY_NEW', 'DEP_DEL15'],\n",
        "                            outputCol='features')"
      ],
      "metadata": {
        "id": "ZN1u4ICqJm8z"
      },
      "execution_count": null,
      "outputs": []
    },
    {
      "cell_type": "code",
      "source": [
        "DT = DecisionTreeClassifier(maxDepth=16, featuresCol='features', labelCol='ARR_DEL15')"
      ],
      "metadata": {
        "id": "tCYuBWCIGIaG"
      },
      "execution_count": null,
      "outputs": []
    },
    {
      "cell_type": "code",
      "source": [
        "pipeline = Pipeline(stages=[stringIndexer, oneHotEncoder, assembler, DT])"
      ],
      "metadata": {
        "id": "quG58rAfGJrx"
      },
      "execution_count": null,
      "outputs": []
    },
    {
      "cell_type": "code",
      "source": [
        "model_DT = pipeline.fit(train)"
      ],
      "metadata": {
        "id": "w1GwiJTYGKvw"
      },
      "execution_count": null,
      "outputs": []
    },
    {
      "cell_type": "code",
      "source": [
        "Trained = model_DT.transform(test)\n",
        "Trained.show()\n",
        "Trained.count()"
      ],
      "metadata": {
        "id": "5mbEFdPlIJwN",
        "outputId": "dfb6a2ee-a07b-4f45-f6e5-bf3c24550a3f",
        "colab": {
          "base_uri": "https://localhost:8080/"
        }
      },
      "execution_count": null,
      "outputs": [
        {
          "output_type": "stream",
          "name": "stdout",
          "text": [
            "+--------------------+-------+-----+------------+-----------+-----------------+------+----+--------+------------+--------+---------+-------------+---------+---------+----------------------+-----------+---------+--------------------+----------------+----------------+--------------------+--------------+--------------------+----------+\n",
            "|                  ID|QUARTER|MONTH|DAY_OF_MONTH|DAY_OF_WEEK|OP_UNIQUE_CARRIER|ORIGIN|DEST|DISTANCE|CRS_DEP_TIME|DEP_TIME|DEP_DELAY|DEP_DELAY_NEW|DEP_DEL15|ARR_DEL15|OP_UNIQUE_CARRIERIndex|ORIGINIndex|DESTIndex|OP_UNIQUE_CARRIERVec|       ORIGINVec|         DESTVec|            features| rawPrediction|         probability|prediction|\n",
            "+--------------------+-------+-----+------------+-----------+-----------------+------+----+--------+------------+--------+---------+-------------+---------+---------+----------------------+-----------+---------+--------------------+----------------+----------------+--------------------+--------------+--------------------+----------+\n",
            "|3/1/2024_9E_ATL_T...|      1|    3|           1|          5|               9E|   ATL| TLH|   223.0|        1657|  1654.0|     -3.0|          0.0|      0.0|      0.0|                  12.0|        4.0|     46.0|     (13,[12],[1.0])| (156,[4],[1.0])|(156,[46],[1.0])|(335,[0,1,2,3,16,...|[4937.0,301.0]|[0.94253531882397...|       0.0|\n",
            "|3/1/2024_9E_JFK_J...|      1|    3|           1|          5|               9E|   JFK| JAX|   828.0|         847|   842.0|     -5.0|          0.0|      0.0|      0.0|                  12.0|       13.0|      7.0|     (13,[12],[1.0])|(156,[13],[1.0])| (156,[7],[1.0])|(335,[0,1,2,3,16,...|  [722.0,35.0]|[0.95376486129458...|       0.0|\n",
            "|3/1/2024_9E_LGA_P...|      1|    3|           1|          5|               9E|   LGA| PNS|  1030.0|        1030|  1023.0|     -7.0|          0.0|      0.0|      0.0|                  12.0|       11.0|     22.0|     (13,[12],[1.0])|(156,[11],[1.0])|(156,[22],[1.0])|(335,[0,1,2,3,16,...|[5461.0,104.0]|[0.98131176999101...|       0.0|\n",
            "|3/1/2024_9E_TLH_A...|      1|    3|           1|          5|               9E|   TLH| ATL|   223.0|         953|   949.0|     -4.0|          0.0|      0.0|      0.0|                  12.0|       44.0|      4.0|     (13,[12],[1.0])|(156,[44],[1.0])| (156,[4],[1.0])|(335,[0,1,2,3,16,...|  [722.0,35.0]|[0.95376486129458...|       0.0|\n",
            "|3/1/2024_AA_ATL_M...|      1|    3|           1|          5|               AA|   ATL| MIA|   594.0|         704|   702.0|     -2.0|          0.0|      0.0|      0.0|                   0.0|        4.0|      1.0|      (13,[0],[1.0])| (156,[4],[1.0])| (156,[1],[1.0])|(335,[0,1,2,3,4,2...|[4937.0,301.0]|[0.94253531882397...|       0.0|\n",
            "|3/1/2024_AA_AUS_M...|      1|    3|           1|          5|               AA|   AUS| MCO|   994.0|         828|   822.0|     -6.0|          0.0|      0.0|      0.0|                   0.0|       40.0|      0.0|      (13,[0],[1.0])|(156,[40],[1.0])| (156,[0],[1.0])|(335,[0,1,2,3,4,5...|[5461.0,104.0]|[0.98131176999101...|       0.0|\n",
            "|3/1/2024_AA_BNA_M...|      1|    3|           1|          5|               AA|   BNA| MIA|   806.0|         735|   848.0|     73.0|         73.0|      1.0|      1.0|                   0.0|       19.0|      1.0|      (13,[0],[1.0])|(156,[19],[1.0])| (156,[1],[1.0])|(335,[0,1,2,3,4,3...| [0.0,28444.0]|           [0.0,1.0]|       1.0|\n",
            "|3/1/2024_AA_BOS_M...|      1|    3|           1|          5|               AA|   BOS| MIA|  1258.0|        1725|  1724.0|     -1.0|          0.0|      0.0|      0.0|                   0.0|       14.0|      1.0|      (13,[0],[1.0])|(156,[14],[1.0])| (156,[1],[1.0])|(335,[0,1,2,3,4,3...|[4937.0,301.0]|[0.94253531882397...|       0.0|\n",
            "|3/1/2024_AA_BOS_M...|      1|    3|           1|          5|               AA|   BOS| MIA|  1258.0|         529|   529.0|      0.0|          0.0|      0.0|      0.0|                   0.0|       14.0|      1.0|      (13,[0],[1.0])|(156,[14],[1.0])| (156,[1],[1.0])|(335,[0,1,2,3,4,3...|[4937.0,301.0]|[0.94253531882397...|       0.0|\n",
            "|3/1/2024_AA_BOS_M...|      1|    3|           1|          5|               AA|   BOS| MIA|  1258.0|        1000|   957.0|     -3.0|          0.0|      0.0|      0.0|                   0.0|       14.0|      1.0|      (13,[0],[1.0])|(156,[14],[1.0])| (156,[1],[1.0])|(335,[0,1,2,3,4,3...|[4937.0,301.0]|[0.94253531882397...|       0.0|\n",
            "|3/1/2024_AA_CLT_E...|      1|    3|           1|          5|               AA|   CLT| EYW|   736.0|        1213|  1208.0|     -5.0|          0.0|      0.0|      0.0|                   0.0|        6.0|     34.0|      (13,[0],[1.0])| (156,[6],[1.0])|(156,[34],[1.0])|(335,[0,1,2,3,4,2...|[2712.0,163.0]|[0.94330434782608...|       0.0|\n",
            "|3/1/2024_AA_CLT_E...|      1|    3|           1|          5|               AA|   CLT| EYW|   736.0|         950|   952.0|      2.0|          2.0|      0.0|      1.0|                   0.0|        6.0|     34.0|      (13,[0],[1.0])| (156,[6],[1.0])|(156,[34],[1.0])|(335,[0,1,2,3,4,2...|  [693.0,73.0]|[0.90469973890339...|       0.0|\n",
            "|3/1/2024_AA_CLT_F...|      1|    3|           1|          5|               AA|   CLT| FLL|   632.0|        1637|  1635.0|     -2.0|          0.0|      0.0|      0.0|                   0.0|        6.0|      2.0|      (13,[0],[1.0])| (156,[6],[1.0])| (156,[2],[1.0])|(335,[0,1,2,3,4,2...|[4937.0,301.0]|[0.94253531882397...|       0.0|\n",
            "|3/1/2024_AA_CLT_F...|      1|    3|           1|          5|               AA|   CLT| FLL|   632.0|        1129|  1126.0|     -3.0|          0.0|      0.0|      0.0|                   0.0|        6.0|      2.0|      (13,[0],[1.0])| (156,[6],[1.0])| (156,[2],[1.0])|(335,[0,1,2,3,4,2...|[4937.0,301.0]|[0.94253531882397...|       0.0|\n",
            "|3/1/2024_AA_CLT_F...|      1|    3|           1|          5|               AA|   CLT| FLL|   632.0|        1833|  1837.0|      4.0|          4.0|      0.0|      1.0|                   0.0|        6.0|      2.0|      (13,[0],[1.0])| (156,[6],[1.0])| (156,[2],[1.0])|(335,[0,1,2,3,4,2...|  [693.0,73.0]|[0.90469973890339...|       0.0|\n",
            "|3/1/2024_AA_CLT_J...|      1|    3|           1|          5|               AA|   CLT| JAX|   328.0|        1607|  1603.0|     -4.0|          0.0|      0.0|      0.0|                   0.0|        6.0|      7.0|      (13,[0],[1.0])| (156,[6],[1.0])| (156,[7],[1.0])|(335,[0,1,2,3,4,2...|[2712.0,163.0]|[0.94330434782608...|       0.0|\n",
            "|3/1/2024_AA_CLT_J...|      1|    3|           1|          5|               AA|   CLT| JAX|   328.0|         900|   855.0|     -5.0|          0.0|      0.0|      0.0|                   0.0|        6.0|      7.0|      (13,[0],[1.0])| (156,[6],[1.0])| (156,[7],[1.0])|(335,[0,1,2,3,4,2...|  [722.0,35.0]|[0.95376486129458...|       0.0|\n",
            "|3/1/2024_AA_CLT_J...|      1|    3|           1|          5|               AA|   CLT| JAX|   328.0|        1807|  1834.0|     27.0|         27.0|      1.0|      1.0|                   0.0|        6.0|      7.0|      (13,[0],[1.0])| (156,[6],[1.0])| (156,[7],[1.0])|(335,[0,1,2,3,4,2...|  [57.0,697.0]|[0.07559681697612...|       1.0|\n",
            "|3/1/2024_AA_CLT_M...|      1|    3|           1|          5|               AA|   CLT| MCO|   468.0|        1215|  1209.0|     -6.0|          0.0|      0.0|      0.0|                   0.0|        6.0|      0.0|      (13,[0],[1.0])| (156,[6],[1.0])| (156,[0],[1.0])|(335,[0,1,2,3,4,2...|[2712.0,163.0]|[0.94330434782608...|       0.0|\n",
            "|3/1/2024_AA_CLT_M...|      1|    3|           1|          5|               AA|   CLT| MCO|   468.0|         806|   853.0|     47.0|         47.0|      1.0|      1.0|                   0.0|        6.0|      0.0|      (13,[0],[1.0])| (156,[6],[1.0])| (156,[0],[1.0])|(335,[0,1,2,3,4,2...| [21.0,8252.0]|[0.00253837785567...|       1.0|\n",
            "+--------------------+-------+-----+------------+-----------+-----------------+------+----+--------+------------+--------+---------+-------------+---------+---------+----------------------+-----------+---------+--------------------+----------------+----------------+--------------------+--------------+--------------------+----------+\n",
            "only showing top 20 rows\n",
            "\n"
          ]
        },
        {
          "output_type": "execute_result",
          "data": {
            "text/plain": [
              "81141"
            ]
          },
          "metadata": {},
          "execution_count": 47
        }
      ]
    }
  ],
  "metadata": {
    "colab": {
      "toc_visible": true,
      "provenance": []
    },
    "kernelspec": {
      "display_name": "Python 3",
      "name": "python3"
    }
  },
  "nbformat": 4,
  "nbformat_minor": 0
}